{
 "cells": [
  {
   "cell_type": "markdown",
   "id": "d4398a8e",
   "metadata": {},
   "source": [
    "# Load Libraries and Set CUDA environment"
   ]
  },
  {
   "cell_type": "code",
   "execution_count": null,
   "id": "e98baa68",
   "metadata": {},
   "outputs": [],
   "source": [
    "import torch\n",
    "import torch.optim as optim\n",
    "from torch.utils.data import DataLoader\n",
    "from model import UNet\n",
    "from dataloader import ProstateDataset\n",
    "from utils import ToTensor, plot_images, visualize_predictions, save_model, load_model\n",
    "import os\n",
    "from torch.utils.data import random_split\n",
    "import matplotlib.pyplot as plt\n",
    "import monai\n",
    "\n",
    "# Set the environment variable to use GPU 1\n",
    "os.environ['CUDA_VISIBLE_DEVICES'] = '0'\n",
    "\n",
    "# Check if CUDA is available\n",
    "if torch.cuda.is_available():\n",
    "    print(\"CUDA is available. Training on GPU.\")\n",
    "else:\n",
    "    print(\"CUDA is not available. Training on CPU.\")\n",
    "\n",
    "# Setting up device\n",
    "device = torch.device(\"cuda\" if torch.cuda.is_available() else \"cpu\")"
   ]
  },
  {
   "cell_type": "markdown",
   "id": "ecd938b1",
   "metadata": {},
   "source": [
    "# Load Dataset and Dataloader"
   ]
  },
  {
   "cell_type": "code",
   "execution_count": 4,
   "id": "c3d41044",
   "metadata": {},
   "outputs": [],
   "source": [
    "# Initialize your dataset and dataloader\n",
    "dataset = ProstateDataset(img_dir='./data/img', mask_dir='./data/mask', transform=ToTensor())\n",
    "\n",
    "# Define the sizes for train, validation, and test sets\n",
    "train_size = int(0.7 * len(dataset))  # 70% for training\n",
    "valid_size = int(0.2 * len(dataset))  # 20% for validation\n",
    "test_size = len(dataset) - train_size - valid_size  # Remaining 10% for testing\n",
    "\n",
    "# Split the dataset\n",
    "train_dataset, valid_dataset, test_dataset = random_split(dataset, [train_size, valid_size, test_size])\n",
    "\n",
    "# Create DataLoaders for each split\n",
    "train_loader = DataLoader(train_dataset, batch_size=4, shuffle=True, num_workers=4)\n",
    "valid_loader = DataLoader(valid_dataset, batch_size=4, shuffle=False, num_workers=4)\n",
    "test_loader = DataLoader(test_dataset, batch_size=4, shuffle=False, num_workers=4)"
   ]
  },
  {
   "cell_type": "code",
   "execution_count": 20,
   "id": "a3003d52",
   "metadata": {},
   "outputs": [
    {
     "name": "stdout",
     "output_type": "stream",
     "text": [
      "Model loaded from model_unet.pth\n"
     ]
    }
   ],
   "source": [
    "# Initialize model\n",
    "model = UNet(n_channels=1, n_classes=1).to(device)\n",
    "# load model\n",
    "load_model(model, 'model_unet.pth', device)\n",
    "model = model.eval()  # Set model to evaluation mode"
   ]
  },
  {
   "cell_type": "markdown",
   "id": "a36bd107",
   "metadata": {},
   "source": [
    "## Dice Score Calculation"
   ]
  },
  {
   "cell_type": "markdown",
   "id": "69fdf165",
   "metadata": {},
   "source": [
    "##\n",
    "The Dice coefficient measures the similarity between two sets (e.g., predicted and ground truth masks) and is defined as:\n",
    "$$ \\text{Dice} = \\frac{2 \\times |A \\cap B|}{|A| + |B|} $$\n",
    "\n",
    "The value ranges from 0 (no overlap) to 1 (perfect overlap), making it ideal for segmentation tasks.\n",
    "\n",
    "For segmentation evaluation we can use other metrics such as - \n",
    "Intersection over Union (IoU or Jaccard Index), Hausdorff Distance (Boundary-Based)"
   ]
  },
  {
   "cell_type": "code",
   "execution_count": 16,
   "id": "88540b58",
   "metadata": {},
   "outputs": [
    {
     "name": "stdout",
     "output_type": "stream",
     "text": [
      "Test Dice Coefficient: 0.9135\n"
     ]
    }
   ],
   "source": [
    "# test evaluation\n",
    "test_dice = 0.0\n",
    "\n",
    "with torch.no_grad():\n",
    "    for batch in test_loader:\n",
    "        images = batch['image'].to(device)\n",
    "        true_masks = batch['mask'].to(device)\n",
    "        preds = torch.sigmoid(model(images))\n",
    "        preds = (preds > 0.5).float()\n",
    "        # Calculate Dice coefficient\n",
    "        monai_dice = monai.metrics.DiceMetric(include_background=False, ignore_empty=False,  reduction='mean')\n",
    "        monai_dice(y_pred=preds, y=true_masks)\n",
    "        test_dice += monai_dice.aggregate().item()\n",
    "        monai_dice.reset()\n",
    "    test_dice /= len(test_loader)\n",
    "    print(f'Test Dice Coefficient: {test_dice:.4f}')"
   ]
  }
 ],
 "metadata": {
  "kernelspec": {
   "display_name": "Python 3",
   "language": "python",
   "name": "python3"
  },
  "language_info": {
   "codemirror_mode": {
    "name": "ipython",
    "version": 3
   },
   "file_extension": ".py",
   "mimetype": "text/x-python",
   "name": "python",
   "nbconvert_exporter": "python",
   "pygments_lexer": "ipython3",
   "version": "3.9.21"
  }
 },
 "nbformat": 4,
 "nbformat_minor": 5
}
