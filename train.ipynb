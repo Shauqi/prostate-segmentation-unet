{
 "cells": [
  {
   "cell_type": "markdown",
   "id": "18d816d6",
   "metadata": {},
   "source": [
    "# Load Libraries"
   ]
  },
  {
   "cell_type": "code",
   "execution_count": 2,
   "id": "e8059352",
   "metadata": {},
   "outputs": [
    {
     "name": "stdout",
     "output_type": "stream",
     "text": [
      "CUDA is available. Training on GPU.\n"
     ]
    }
   ],
   "source": [
    "import torch\n",
    "import torch.optim as optim\n",
    "from torch.utils.data import DataLoader\n",
    "from model import UNet\n",
    "from dataloader import ProstateDataset\n",
    "from utils import ToTensor, plot_images, visualize_predictions, save_model, load_model\n",
    "import os\n",
    "from torch.utils.data import random_split\n",
    "import matplotlib.pyplot as plt\n",
    "import torch.distributed as dist\n",
    "\n",
    "# Set the environment variable to use GPU 1\n",
    "os.environ['CUDA_VISIBLE_DEVICES'] = '0'\n",
    "\n",
    "# Check if CUDA is available\n",
    "if torch.cuda.is_available():\n",
    "    print(\"CUDA is available. Training on GPU.\")\n",
    "else:\n",
    "    print(\"CUDA is not available. Training on CPU.\")\n",
    "\n",
    "# Setting up device\n",
    "device = torch.device(\"cuda\" if torch.cuda.is_available() else \"cpu\")"
   ]
  },
  {
   "cell_type": "markdown",
   "id": "12e74830",
   "metadata": {},
   "source": [
    "# Load Dataset and Dataloader"
   ]
  },
  {
   "cell_type": "code",
   "execution_count": 3,
   "id": "025eedc0",
   "metadata": {},
   "outputs": [],
   "source": [
    "# Initialize your dataset and dataloader\n",
    "dataset = ProstateDataset(img_dir='./data/img', mask_dir='./data/mask', transform=ToTensor())\n",
    "\n",
    "# Define the sizes for train, validation, and test sets\n",
    "train_size = int(0.7 * len(dataset))  # 70% for training\n",
    "valid_size = int(0.2 * len(dataset))  # 20% for validation\n",
    "test_size = len(dataset) - train_size - valid_size  # Remaining 10% for testing\n",
    "\n",
    "# Split the dataset\n",
    "train_dataset, valid_dataset, test_dataset = random_split(dataset, [train_size, valid_size, test_size])\n",
    "\n",
    "# print(len(train_dataset), len(valid_dataset), len(test_dataset))\n",
    "\n",
    "# Create DataLoaders for each split\n",
    "train_loader = DataLoader(train_dataset, batch_size=16, shuffle=True, num_workers=4, pin_memory=True)\n",
    "valid_loader = DataLoader(valid_dataset, batch_size=16, shuffle=False, num_workers=4, pin_memory=True)\n",
    "test_loader = DataLoader(test_dataset, batch_size=4, shuffle=False, num_workers=4)"
   ]
  },
  {
   "cell_type": "markdown",
   "id": "50aa4742",
   "metadata": {},
   "source": [
    "# Model\n",
    "\n",
    "<img src=\"./U-Net_Model.PNG\" alt=\"UNet Architecture\" style=\"width:700px;\"/>"
   ]
  },
  {
   "cell_type": "code",
   "execution_count": 6,
   "id": "3df07d7d",
   "metadata": {},
   "outputs": [
    {
     "data": {
      "text/plain": [
       "===============================================================================================\n",
       "Layer (type:depth-idx)                        Output Shape              Param #\n",
       "===============================================================================================\n",
       "UNet                                          [1, 1, 384, 384]          --\n",
       "├─DoubleConv: 1-1                             [1, 64, 384, 384]         --\n",
       "│    └─Sequential: 2-1                        [1, 64, 384, 384]         --\n",
       "│    │    └─Conv2d: 3-1                       [1, 64, 384, 384]         640\n",
       "│    │    └─BatchNorm2d: 3-2                  [1, 64, 384, 384]         128\n",
       "│    │    └─ReLU: 3-3                         [1, 64, 384, 384]         --\n",
       "│    │    └─Conv2d: 3-4                       [1, 64, 384, 384]         36,928\n",
       "│    │    └─BatchNorm2d: 3-5                  [1, 64, 384, 384]         128\n",
       "│    │    └─ReLU: 3-6                         [1, 64, 384, 384]         --\n",
       "├─Down: 1-2                                   [1, 128, 192, 192]        --\n",
       "│    └─Sequential: 2-2                        [1, 128, 192, 192]        --\n",
       "│    │    └─MaxPool2d: 3-7                    [1, 64, 192, 192]         --\n",
       "│    │    └─DoubleConv: 3-8                   [1, 128, 192, 192]        221,952\n",
       "├─Down: 1-3                                   [1, 256, 96, 96]          --\n",
       "│    └─Sequential: 2-3                        [1, 256, 96, 96]          --\n",
       "│    │    └─MaxPool2d: 3-9                    [1, 128, 96, 96]          --\n",
       "│    │    └─DoubleConv: 3-10                  [1, 256, 96, 96]          886,272\n",
       "├─Down: 1-4                                   [1, 512, 48, 48]          --\n",
       "│    └─Sequential: 2-4                        [1, 512, 48, 48]          --\n",
       "│    │    └─MaxPool2d: 3-11                   [1, 256, 48, 48]          --\n",
       "│    │    └─DoubleConv: 3-12                  [1, 512, 48, 48]          3,542,016\n",
       "├─Down: 1-5                                   [1, 512, 24, 24]          --\n",
       "│    └─Sequential: 2-5                        [1, 512, 24, 24]          --\n",
       "│    │    └─MaxPool2d: 3-13                   [1, 512, 24, 24]          --\n",
       "│    │    └─DoubleConv: 3-14                  [1, 512, 24, 24]          4,721,664\n",
       "├─Up: 1-6                                     [1, 256, 48, 48]          --\n",
       "│    └─Upsample: 2-6                          [1, 512, 48, 48]          --\n",
       "│    └─DoubleConv: 2-7                        [1, 256, 48, 48]          --\n",
       "│    │    └─Sequential: 3-15                  [1, 256, 48, 48]          5,900,544\n",
       "├─Up: 1-7                                     [1, 128, 96, 96]          --\n",
       "│    └─Upsample: 2-8                          [1, 256, 96, 96]          --\n",
       "│    └─DoubleConv: 2-9                        [1, 128, 96, 96]          --\n",
       "│    │    └─Sequential: 3-16                  [1, 128, 96, 96]          1,475,712\n",
       "├─Up: 1-8                                     [1, 64, 192, 192]         --\n",
       "│    └─Upsample: 2-10                         [1, 128, 192, 192]        --\n",
       "│    └─DoubleConv: 2-11                       [1, 64, 192, 192]         --\n",
       "│    │    └─Sequential: 3-17                  [1, 64, 192, 192]         369,216\n",
       "├─Up: 1-9                                     [1, 64, 384, 384]         --\n",
       "│    └─Upsample: 2-12                         [1, 64, 384, 384]         --\n",
       "│    └─DoubleConv: 2-13                       [1, 64, 384, 384]         --\n",
       "│    │    └─Sequential: 3-18                  [1, 64, 384, 384]         110,976\n",
       "├─OutConv: 1-10                               [1, 1, 384, 384]          --\n",
       "│    └─Conv2d: 2-14                           [1, 1, 384, 384]          65\n",
       "===============================================================================================\n",
       "Total params: 17,266,241\n",
       "Trainable params: 17,266,241\n",
       "Non-trainable params: 0\n",
       "Total mult-adds (G): 89.85\n",
       "===============================================================================================\n",
       "Input size (MB): 0.59\n",
       "Forward/backward pass size (MB): 1077.02\n",
       "Params size (MB): 69.06\n",
       "Estimated Total Size (MB): 1146.67\n",
       "==============================================================================================="
      ]
     },
     "execution_count": 6,
     "metadata": {},
     "output_type": "execute_result"
    }
   ],
   "source": [
    "# Initialize model\n",
    "model = UNet(n_channels=1, n_classes=1)\n",
    "\n",
    "from torchinfo import summary\n",
    "\n",
    "# Assuming your model is already initialized\n",
    "summary(model, input_size=(1, 1, 384, 384))  # Adjust input_size to match your model's input dimensions"
   ]
  },
  {
   "cell_type": "code",
   "execution_count": 8,
   "id": "0a52a47d",
   "metadata": {},
   "outputs": [],
   "source": [
    "model = torch.nn.DataParallel(model)  # Wrap the model with DataParallel\n",
    "model = model.to(device)  # Move the model to the appropriate device"
   ]
  },
  {
   "cell_type": "markdown",
   "id": "3edd0f36",
   "metadata": {},
   "source": [
    "#### Output Size Calculation\n",
    "\n",
    "Let’s say your input image has dimensions:\n",
    "\n",
    "H_in × W_in = Height × Width\n",
    "\n",
    "\n",
    "After applying `nn.Conv2d(...)`, the spatial dimensions **change**, depending on kernel size, padding, stride, etc.\n",
    "\n",
    "The resulting **output feature map** has size:\n",
    "\n",
    "\n",
    "The formulas to compute output dimensions are:\n",
    "\n",
    "$$\n",
    "H_{out} = \\left\\lfloor \\frac{H_{in} + 2 \\times \\text{padding} - \\text{kernel\\_size}}{\\text{stride}} \\right\\rfloor + 1\n",
    "$$\n",
    "\n",
    "$$\n",
    "W_{out} = \\left\\lfloor \\frac{W_{in} + 2 \\times \\text{padding} - \\text{kernel\\_size}}{\\text{stride}} \\right\\rfloor + 1\n",
    "$$\n",
    "\n",
    "```python\n",
    "nn.Conv2d(in_channels=3, out_channels=16, kernel_size=3, stride=1, padding=1)\n",
    "H_in = 128, W_in = 128\n",
    "```\n",
    "\n",
    "$$\n",
    "H_{out} = W_{out} = \\left\\lfloor \\frac{128 + 2(1) - 3}{1} \\right\\rfloor + 1 = 128\n",
    "$$\n",
    "\n",
    "---\n",
    "\n",
    "#### Parameter Calculation\n",
    "\n",
    "Each convolutional filter has:\n",
    "\n",
    "- `kernel_size × kernel_size × in_channels` weights  \n",
    "- `+1` bias term per filter (optional, included by default)\n",
    "\n",
    "---\n",
    "\n",
    "For `mid_channels` output filters (a.k.a. `out_channels`):\n",
    "\n",
    "$$\n",
    "\\text{Total Params} = (\\text{in\\_channels} \\times 3 \\times 3 + 1) \\times \\text{mid\\_channels}\n",
    "$$\n",
    "\n",
    "More generally, for any kernel size `k × k`:\n",
    "\n",
    "$$\n",
    "\\text{Total Params} = (\\text{in\\_channels} \\times k \\times k + 1) \\times \\text{out\\_channels}\n",
    "$$\n",
    "\n",
    "---\n",
    "\n",
    "```python\n",
    "nn.Conv2d(16, 32, kernel_size=3, padding=1)\n",
    "```\n",
    "\n",
    "Params=(16×3×3+1)×32=(144+1)×32=4640"
   ]
  },
  {
   "cell_type": "markdown",
   "id": "706e32d4",
   "metadata": {},
   "source": [
    "# Binary Cross-Entropy Loss\n",
    "\n",
    "The Binary Cross-Entropy (BCE) loss measures the difference between the predicted probabilities and the true binary labels. It is defined as:\n",
    "\n",
    "$$ \\text{BCE Loss} = -\\frac{1}{N} \\sum_{i=1}^{N} \\left[ y_i \\log(p_i) + (1 - y_i) \\log(1 - p_i) \\right] $$\n",
    "\n",
    "Where:\n",
    "\n",
    "- $( y_i )$ is the ground truth label (0 or 1).\n",
    "- $( p_i )$ is the predicted probability for the positive class.\n",
    "- $( N )$ is the total number of samples.\n",
    "\n",
    "This loss penalizes incorrect predictions more heavily when the predicted probability is far from the true label, encouraging the model to output probabilities closer to the true labels\n",
    "\n",
    "The \"WithLogits\" part of BCEWithLogitsLoss means that this function combines two operations:\n",
    "\n",
    "1. Sigmoid Activation: It applies the sigmoid function to the raw model outputs (logits) to convert them into probabilities in the range [0, 1].\n",
    "2. Binary Cross-Entropy: It then computes the BCE loss using these probabilities."
   ]
  },
  {
   "cell_type": "code",
   "execution_count": 9,
   "id": "0df22fae",
   "metadata": {},
   "outputs": [],
   "source": [
    "# Loss function\n",
    "criterion = torch.nn.BCEWithLogitsLoss()"
   ]
  },
  {
   "cell_type": "markdown",
   "id": "11cf74d4",
   "metadata": {},
   "source": [
    "# Optimizer\n",
    "\n",
    "The optimizer is responsible for updating the model's parameters (weights and biases) during training to minimize the loss function.\n",
    "\n",
    "Adam combines the benefits of two other optimizers:\n",
    "\n",
    "- Momentum: Helps accelerate convergence by smoothing updates using a moving average of past gradients.\n",
    "- RMSProp: Scales the learning rate for each parameter based on the magnitude of recent gradients, making it adaptive to different parameter scales.\n",
    "\n",
    "Learning Rate, lr = 0.001\n",
    "\n",
    "The lr argument specifies the learning rate, which controls the step size for updating the model's parameters."
   ]
  },
  {
   "cell_type": "code",
   "execution_count": 10,
   "id": "8c7ba5cf",
   "metadata": {},
   "outputs": [],
   "source": [
    "# Optimizer\n",
    "optimizer = optim.Adam(model.parameters(), lr=0.001)"
   ]
  },
  {
   "cell_type": "markdown",
   "id": "976b23a1",
   "metadata": {},
   "source": [
    "## Training Phase"
   ]
  },
  {
   "cell_type": "code",
   "execution_count": 11,
   "id": "f71ca0a1",
   "metadata": {},
   "outputs": [
    {
     "name": "stdout",
     "output_type": "stream",
     "text": [
      "Epoch 1, Training Loss: 0.3344\n",
      "Epoch 1, Validation Loss: 0.1974\n",
      "Epoch 2, Training Loss: 0.1564\n",
      "Epoch 2, Validation Loss: 0.2226\n",
      "Epoch 3, Training Loss: 0.1113\n",
      "Epoch 3, Validation Loss: 0.0908\n",
      "Epoch 4, Training Loss: 0.0778\n",
      "Epoch 4, Validation Loss: 0.0618\n",
      "Epoch 5, Training Loss: 0.0564\n",
      "Epoch 5, Validation Loss: 0.0567\n",
      "Epoch 6, Training Loss: 0.0449\n",
      "Epoch 6, Validation Loss: 0.0496\n",
      "Epoch 7, Training Loss: 0.0373\n",
      "Epoch 7, Validation Loss: 0.0339\n",
      "Epoch 8, Training Loss: 0.0316\n",
      "Epoch 8, Validation Loss: 0.0305\n",
      "Epoch 9, Training Loss: 0.0287\n",
      "Epoch 9, Validation Loss: 0.0301\n",
      "Epoch 10, Training Loss: 0.0266\n",
      "Epoch 10, Validation Loss: 0.0383\n",
      "Epoch 11, Training Loss: 0.0256\n",
      "Epoch 11, Validation Loss: 0.0242\n",
      "Epoch 12, Training Loss: 0.0222\n",
      "Epoch 12, Validation Loss: 0.0267\n",
      "Epoch 13, Training Loss: 0.0216\n",
      "Epoch 13, Validation Loss: 0.0224\n",
      "Epoch 14, Training Loss: 0.0209\n",
      "Epoch 14, Validation Loss: 0.0226\n",
      "Epoch 15, Training Loss: 0.0183\n",
      "Epoch 15, Validation Loss: 0.0348\n",
      "Epoch 16, Training Loss: 0.0181\n",
      "Epoch 16, Validation Loss: 0.0191\n",
      "Epoch 17, Training Loss: 0.0171\n",
      "Epoch 17, Validation Loss: 0.0205\n",
      "Epoch 18, Training Loss: 0.0158\n",
      "Epoch 18, Validation Loss: 0.0193\n",
      "Epoch 19, Training Loss: 0.0143\n",
      "Epoch 19, Validation Loss: 0.0170\n",
      "Epoch 20, Training Loss: 0.0146\n",
      "Epoch 20, Validation Loss: 0.0177\n",
      "Epoch 21, Training Loss: 0.0136\n",
      "Epoch 21, Validation Loss: 0.0207\n",
      "Epoch 22, Training Loss: 0.0125\n",
      "Epoch 22, Validation Loss: 0.0202\n",
      "Epoch 23, Training Loss: 0.0123\n",
      "Epoch 23, Validation Loss: 0.0237\n",
      "Epoch 24, Training Loss: 0.0122\n",
      "Epoch 24, Validation Loss: 0.0161\n",
      "Epoch 25, Training Loss: 0.0129\n",
      "Epoch 25, Validation Loss: 0.0171\n"
     ]
    }
   ],
   "source": [
    "model = model.train()  # Set the model to training mode\n",
    "\n",
    "num_epochs = 25\n",
    "\n",
    "train_losses = []\n",
    "valid_losses = []\n",
    "\n",
    "for epoch in range(num_epochs):\n",
    "    running_loss = 0.0\n",
    "    for i, batch in enumerate(train_loader):\n",
    "        # Get the inputs and labels from the data loader\n",
    "        inputs = batch['image'].to(device)\n",
    "        labels = batch['mask'].to(device)\n",
    "        \n",
    "        # Zero the parameter gradients\n",
    "        optimizer.zero_grad()\n",
    "        \n",
    "        # Forward pass\n",
    "        outputs = model(inputs)\n",
    "        loss = criterion(outputs, labels)\n",
    "        \n",
    "        # Backward pass and optimize\n",
    "        loss.backward()\n",
    "        optimizer.step()\n",
    "        \n",
    "        # Print statistics\n",
    "        running_loss += loss.item()\n",
    "        # if i % 10 == 9:    # print every 10 mini-batches\n",
    "        #     print(f'Epoch {epoch + 1}, Batch {i + 1}, Loss: {running_loss / 10:.4f}')\n",
    "        #     running_loss = 0.0\n",
    "\n",
    "    train_losses.append(running_loss / len(train_loader))\n",
    "    print(f'Epoch {epoch + 1}, Training Loss: {train_losses[-1]:.4f}')\n",
    "\n",
    "    # Validation phase\n",
    "    model = model.eval()\n",
    "    valid_loss = 0.0\n",
    "    with torch.no_grad():\n",
    "        for i, batch in enumerate(valid_loader):\n",
    "            inputs = batch['image'].to(device)\n",
    "            labels = batch['mask'].to(device)\n",
    "            \n",
    "            outputs = model(inputs)\n",
    "            loss = criterion(outputs, labels)\n",
    "            \n",
    "            valid_loss += loss.item()\n",
    "\n",
    "    valid_losses.append(valid_loss / len(valid_loader))\n",
    "    print(f'Epoch {epoch + 1}, Validation Loss: {valid_losses[-1]:.4f}')\n",
    "    model = model.train()  # Set the model back to training mode"
   ]
  },
  {
   "cell_type": "markdown",
   "id": "8b8195c4",
   "metadata": {},
   "source": [
    "# Loss Curves (Batch Size 4 without Dataparallel)"
   ]
  },
  {
   "cell_type": "code",
   "execution_count": 25,
   "id": "638a873c",
   "metadata": {},
   "outputs": [
    {
     "data": {
      "image/png": "[encoded data removed]",
      "text/plain": [
       "<Figure size 500x500 with 1 Axes>"
      ]
     },
     "metadata": {},
     "output_type": "display_data"
    }
   ],
   "source": [
    "# Combine training and validation losses in a single plot\n",
    "plt.figure(figsize=(5, 5))  # Adjust the figure size as needed\n",
    "plt.plot(train_losses, label='Training Loss', color='blue')\n",
    "plt.plot(valid_losses, label='Validation Loss', color='orange')\n",
    "plt.title('Training and Validation Loss')\n",
    "plt.xlabel('Epochs')\n",
    "plt.ylabel('Loss')\n",
    "plt.legend()\n",
    "plt.grid(True)  # Optional: Add a grid for better readability\n",
    "plt.show()"
   ]
  },
  {
   "cell_type": "markdown",
   "id": "095c1c96",
   "metadata": {},
   "source": [
    "## 📉 Analysis of Training and Validation Loss Curves\n",
    "\n",
    "The training and validation loss curves in your plot look **healthy and well-behaved overall**. Here's a breakdown of observations:\n",
    "\n",
    "---\n",
    "\n",
    "### ✅ **Positive Signs**\n",
    "\n",
    "- **Both losses are decreasing** over time → indicating the model is learning.\n",
    "- **Training loss continues to decline smoothly**, suggesting effective gradient updates.\n",
    "- **Validation loss also decreases and stabilizes**, indicating good generalization to unseen data.\n",
    "- There is **no significant overfitting**: the validation loss does not increase while training loss decreases.\n",
    "\n",
    "---\n",
    "\n",
    "### 📉 **Minor Observations**\n",
    "\n",
    "- The validation loss has a few **small oscillations** (especially early on), which is common and not alarming.\n",
    "- The **gap between training and validation loss** is modest, which is expected — training loss is often lower since the model is directly optimized for it.\n",
    "\n",
    "---\n",
    "\n",
    "### 📌 **Conclusion**\n",
    "\n",
    "Your model is **training successfully and generalizing well**. You can consider:\n",
    "\n",
    "- Implementing **early stopping** if validation loss plateaus for multiple epochs.\n",
    "- Applying **learning rate decay** or scheduling to fine-tune the optimization further.\n"
   ]
  },
  {
   "cell_type": "markdown",
   "id": "de409216",
   "metadata": {},
   "source": [
    "### Loss Curves (Batch Size - 16, Data Parallel)"
   ]
  },
  {
   "cell_type": "code",
   "execution_count": 12,
   "id": "4a197186",
   "metadata": {},
   "outputs": [
    {
     "data": {
      "image/png": "[encoded data removed]",
      "text/plain": [
       "<Figure size 500x500 with 1 Axes>"
      ]
     },
     "metadata": {},
     "output_type": "display_data"
    }
   ],
   "source": [
    "# Combine training and validation losses in a single plot\n",
    "plt.figure(figsize=(5, 5))  # Adjust the figure size as needed\n",
    "plt.plot(train_losses, label='Training Loss', color='blue')\n",
    "plt.plot(valid_losses, label='Validation Loss', color='orange')\n",
    "plt.title('Training and Validation Loss')\n",
    "plt.xlabel('Epochs')\n",
    "plt.ylabel('Loss')\n",
    "plt.legend()\n",
    "plt.grid(True)  # Optional: Add a grid for better readability\n",
    "plt.show()"
   ]
  },
  {
   "cell_type": "code",
   "execution_count": null,
   "id": "dd63ad54",
   "metadata": {},
   "outputs": [],
   "source": [
    "# save model\n",
    "save_model(model, 'model_unet.pth')"
   ]
  },
  {
   "cell_type": "code",
   "execution_count": null,
   "id": "9945cb2e",
   "metadata": {},
   "outputs": [],
   "source": [
    "# Delete variables\n",
    "del model\n",
    "\n",
    "# Clear GPU cache\n",
    "torch.cuda.empty_cache()"
   ]
  },
  {
   "cell_type": "code",
   "execution_count": null,
   "id": "16d78440",
   "metadata": {},
   "outputs": [],
   "source": []
  }
 ],
 "metadata": {
  "kernelspec": {
   "display_name": "prostate_mri_env",
   "language": "python",
   "name": "python3"
  },
  "language_info": {
   "codemirror_mode": {
    "name": "ipython",
    "version": 3
   },
   "file_extension": ".py",
   "mimetype": "text/x-python",
   "name": "python",
   "nbconvert_exporter": "python",
   "pygments_lexer": "ipython3",
   "version": "3.9.21"
  }
 },
 "nbformat": 4,
 "nbformat_minor": 5
}
