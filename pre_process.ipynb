{
 "cells": [
  {
   "cell_type": "code",
   "execution_count": 2,
   "metadata": {},
   "outputs": [],
   "source": [
    "import os\n",
    "import nibabel as nib\n",
    "import numpy as np\n",
    "import matplotlib.pyplot as plt\n",
    "\n",
    "def load_nii_files(directory):\n",
    "    # check if the directory exists\n",
    "    if not os.path.exists(directory):\n",
    "        raise Exception('The directory does not exist')\n",
    "\n",
    "    # check if the directory is empty\n",
    "    if not os.listdir(directory):\n",
    "        raise Exception('The directory is empty')\n",
    "\n",
    "    # check if the directory contains 6 subdirectories\n",
    "    subdirectories = ['BIDMC', 'BMC', 'HK', 'I2CVB', 'RUNMC', 'UCL']\n",
    "    if not all([os.path.exists(os.path.join(directory, subdirectory)) for subdirectory in subdirectories]):\n",
    "        raise Exception('The directory does not contain the 6 subdirectories')\n",
    "\n",
    "    # load .nii files from the subdirectories\n",
    "    nii_files = []\n",
    "    for subdirectory in subdirectories:\n",
    "        for file in os.listdir(os.path.join(directory, subdirectory)):\n",
    "            if file.endswith('.nii') or file.endswith('.nii.gz'):\n",
    "                nii_files.append(os.path.join(directory, subdirectory, file))\n",
    "\n",
    "    # sort the .nii files\n",
    "    nii_files.sort()\n",
    "    \n",
    "    return nii_files"
   ]
  },
  {
   "cell_type": "code",
   "execution_count": 3,
   "metadata": {},
   "outputs": [],
   "source": [
    "# test the function\n",
    "directory = 'input'\n",
    "nii_files = load_nii_files(directory)"
   ]
  },
  {
   "cell_type": "code",
   "execution_count": 4,
   "metadata": {},
   "outputs": [
    {
     "name": "stdout",
     "output_type": "stream",
     "text": [
      "['input/BIDMC/Case00.nii.gz', 'input/BIDMC/Case00_segmentation.nii.gz', 'input/BIDMC/Case02.nii.gz', 'input/BIDMC/Case02_segmentation.nii.gz', 'input/BIDMC/Case03.nii.gz', 'input/BIDMC/Case03_segmentation.nii.gz', 'input/BIDMC/Case04.nii.gz', 'input/BIDMC/Case04_segmentation.nii.gz', 'input/BIDMC/Case05.nii.gz', 'input/BIDMC/Case05_segmentation.nii.gz', 'input/BIDMC/Case06.nii.gz', 'input/BIDMC/Case06_segmentation.nii.gz', 'input/BIDMC/Case07.nii.gz', 'input/BIDMC/Case07_segmentation.nii.gz', 'input/BIDMC/Case08.nii.gz', 'input/BIDMC/Case08_segmentation.nii.gz', 'input/BIDMC/Case09.nii.gz', 'input/BIDMC/Case09_segmentation.nii.gz', 'input/BIDMC/Case10.nii.gz', 'input/BIDMC/Case10_segmentation.nii.gz', 'input/BIDMC/Case11.nii.gz', 'input/BIDMC/Case11_segmentation.nii.gz', 'input/BIDMC/Case12.nii.gz', 'input/BIDMC/Case12_segmentation.nii.gz', 'input/BMC/Case00.nii.gz', 'input/BMC/Case00_Segmentation.nii.gz', 'input/BMC/Case01.nii.gz', 'input/BMC/Case01_Segmentation.nii.gz', 'input/BMC/Case02.nii.gz', 'input/BMC/Case02_Segmentation.nii.gz', 'input/BMC/Case03.nii.gz', 'input/BMC/Case03_Segmentation.nii.gz', 'input/BMC/Case04.nii.gz', 'input/BMC/Case04_Segmentation.nii.gz', 'input/BMC/Case05.nii.gz', 'input/BMC/Case05_Segmentation.nii.gz', 'input/BMC/Case06.nii.gz', 'input/BMC/Case06_Segmentation.nii.gz', 'input/BMC/Case07.nii.gz', 'input/BMC/Case07_Segmentation.nii.gz', 'input/BMC/Case08.nii.gz', 'input/BMC/Case08_Segmentation.nii.gz', 'input/BMC/Case09.nii.gz', 'input/BMC/Case09_Segmentation.nii.gz', 'input/BMC/Case10.nii.gz', 'input/BMC/Case10_Segmentation.nii.gz', 'input/BMC/Case11.nii.gz', 'input/BMC/Case11_Segmentation.nii.gz', 'input/BMC/Case12.nii.gz', 'input/BMC/Case12_Segmentation.nii.gz', 'input/BMC/Case13.nii.gz', 'input/BMC/Case13_Segmentation.nii.gz', 'input/BMC/Case14.nii.gz', 'input/BMC/Case14_Segmentation.nii.gz', 'input/BMC/Case15.nii.gz', 'input/BMC/Case15_Segmentation.nii.gz', 'input/BMC/Case16.nii.gz', 'input/BMC/Case16_Segmentation.nii.gz', 'input/BMC/Case17.nii.gz', 'input/BMC/Case17_Segmentation.nii.gz', 'input/BMC/Case18.nii.gz', 'input/BMC/Case18_Segmentation.nii.gz', 'input/BMC/Case19.nii.gz', 'input/BMC/Case19_Segmentation.nii.gz', 'input/BMC/Case20.nii.gz', 'input/BMC/Case20_Segmentation.nii.gz', 'input/BMC/Case21.nii.gz', 'input/BMC/Case21_Segmentation.nii.gz', 'input/BMC/Case22.nii.gz', 'input/BMC/Case22_Segmentation.nii.gz', 'input/BMC/Case23.nii.gz', 'input/BMC/Case23_Segmentation.nii.gz', 'input/BMC/Case24.nii.gz', 'input/BMC/Case24_Segmentation.nii.gz', 'input/BMC/Case25.nii.gz', 'input/BMC/Case25_Segmentation.nii.gz', 'input/BMC/Case26.nii.gz', 'input/BMC/Case26_Segmentation.nii.gz', 'input/BMC/Case27.nii.gz', 'input/BMC/Case27_Segmentation.nii.gz', 'input/BMC/Case28.nii.gz', 'input/BMC/Case28_Segmentation.nii.gz', 'input/BMC/Case29.nii.gz', 'input/BMC/Case29_Segmentation.nii.gz', 'input/HK/Case38.nii.gz', 'input/HK/Case38_segmentation.nii.gz', 'input/HK/Case39.nii.gz', 'input/HK/Case39_segmentation.nii.gz', 'input/HK/Case40.nii.gz', 'input/HK/Case40_segmentation.nii.gz', 'input/HK/Case41.nii.gz', 'input/HK/Case41_segmentation.nii.gz', 'input/HK/Case42.nii.gz', 'input/HK/Case42_segmentation.nii.gz', 'input/HK/Case43.nii.gz', 'input/HK/Case43_segmentation.nii.gz', 'input/HK/Case44.nii.gz', 'input/HK/Case44_segmentation.nii.gz', 'input/HK/Case45.nii.gz', 'input/HK/Case45_segmentation.nii.gz', 'input/HK/Case46.nii.gz', 'input/HK/Case46_segmentation.nii.gz', 'input/HK/Case47.nii.gz', 'input/HK/Case47_segmentation.nii.gz', 'input/HK/Case48.nii.gz', 'input/HK/Case48_segmentation.nii.gz', 'input/HK/Case49.nii.gz', 'input/HK/Case49_segmentation.nii.gz', 'input/I2CVB/Case00.nii.gz', 'input/I2CVB/Case00_segmentation.nii.gz', 'input/I2CVB/Case01.nii.gz', 'input/I2CVB/Case01_segmentation.nii.gz', 'input/I2CVB/Case02.nii.gz', 'input/I2CVB/Case02_segmentation.nii.gz', 'input/I2CVB/Case03.nii.gz', 'input/I2CVB/Case03_segmentation.nii.gz', 'input/I2CVB/Case04.nii.gz', 'input/I2CVB/Case04_segmentation.nii.gz', 'input/I2CVB/Case05.nii.gz', 'input/I2CVB/Case05_segmentation.nii.gz', 'input/I2CVB/Case06.nii.gz', 'input/I2CVB/Case06_segmentation.nii.gz', 'input/I2CVB/Case07.nii.gz', 'input/I2CVB/Case07_segmentation.nii.gz', 'input/I2CVB/Case08.nii.gz', 'input/I2CVB/Case08_segmentation.nii.gz', 'input/I2CVB/Case09.nii.gz', 'input/I2CVB/Case09_segmentation.nii.gz', 'input/I2CVB/Case10.nii.gz', 'input/I2CVB/Case10_segmentation.nii.gz', 'input/I2CVB/Case11.nii.gz', 'input/I2CVB/Case11_segmentation.nii.gz', 'input/I2CVB/Case12.nii.gz', 'input/I2CVB/Case12_segmentation.nii.gz', 'input/I2CVB/Case13.nii.gz', 'input/I2CVB/Case13_segmentation.nii.gz', 'input/I2CVB/Case14.nii.gz', 'input/I2CVB/Case14_segmentation.nii.gz', 'input/I2CVB/Case15.nii.gz', 'input/I2CVB/Case15_segmentation.nii.gz', 'input/I2CVB/Case16.nii.gz', 'input/I2CVB/Case16_segmentation.nii.gz', 'input/I2CVB/Case17.nii.gz', 'input/I2CVB/Case17_segmentation.nii.gz', 'input/I2CVB/Case18.nii.gz', 'input/I2CVB/Case18_segmentation.nii.gz', 'input/RUNMC/Case00.nii.gz', 'input/RUNMC/Case00_segmentation.nii.gz', 'input/RUNMC/Case01.nii.gz', 'input/RUNMC/Case01_segmentation.nii.gz', 'input/RUNMC/Case02.nii.gz', 'input/RUNMC/Case02_segmentation.nii.gz', 'input/RUNMC/Case03.nii.gz', 'input/RUNMC/Case03_segmentation.nii.gz', 'input/RUNMC/Case04.nii.gz', 'input/RUNMC/Case04_segmentation.nii.gz', 'input/RUNMC/Case05.nii.gz', 'input/RUNMC/Case05_segmentation.nii.gz', 'input/RUNMC/Case06.nii.gz', 'input/RUNMC/Case06_segmentation.nii.gz', 'input/RUNMC/Case07.nii.gz', 'input/RUNMC/Case07_segmentation.nii.gz', 'input/RUNMC/Case08.nii.gz', 'input/RUNMC/Case08_segmentation.nii.gz', 'input/RUNMC/Case09.nii.gz', 'input/RUNMC/Case09_segmentation.nii.gz', 'input/RUNMC/Case10.nii.gz', 'input/RUNMC/Case10_segmentation.nii.gz', 'input/RUNMC/Case11.nii.gz', 'input/RUNMC/Case11_segmentation.nii.gz', 'input/RUNMC/Case12.nii.gz', 'input/RUNMC/Case12_segmentation.nii.gz', 'input/RUNMC/Case13.nii.gz', 'input/RUNMC/Case13_segmentation.nii.gz', 'input/RUNMC/Case14.nii.gz', 'input/RUNMC/Case14_segmentation.nii.gz', 'input/RUNMC/Case15.nii.gz', 'input/RUNMC/Case15_segmentation.nii.gz', 'input/RUNMC/Case16.nii.gz', 'input/RUNMC/Case16_segmentation.nii.gz', 'input/RUNMC/Case17.nii.gz', 'input/RUNMC/Case17_segmentation.nii.gz', 'input/RUNMC/Case18.nii.gz', 'input/RUNMC/Case18_segmentation.nii.gz', 'input/RUNMC/Case19.nii.gz', 'input/RUNMC/Case19_segmentation.nii.gz', 'input/RUNMC/Case20.nii.gz', 'input/RUNMC/Case20_segmentation.nii.gz', 'input/RUNMC/Case21.nii.gz', 'input/RUNMC/Case21_segmentation.nii.gz', 'input/RUNMC/Case22.nii.gz', 'input/RUNMC/Case22_segmentation.nii.gz', 'input/RUNMC/Case23.nii.gz', 'input/RUNMC/Case23_segmentation.nii.gz', 'input/RUNMC/Case24.nii.gz', 'input/RUNMC/Case24_segmentation.nii.gz', 'input/RUNMC/Case25.nii.gz', 'input/RUNMC/Case25_segmentation.nii.gz', 'input/RUNMC/Case26.nii.gz', 'input/RUNMC/Case26_segmentation.nii.gz', 'input/RUNMC/Case27.nii.gz', 'input/RUNMC/Case27_segmentation.nii.gz', 'input/RUNMC/Case28.nii.gz', 'input/RUNMC/Case28_segmentation.nii.gz', 'input/RUNMC/Case29.nii.gz', 'input/RUNMC/Case29_segmentation.nii.gz', 'input/UCL/Case01.nii.gz', 'input/UCL/Case01_segmentation.nii.gz', 'input/UCL/Case26.nii.gz', 'input/UCL/Case26_segmentation.nii.gz', 'input/UCL/Case27.nii.gz', 'input/UCL/Case27_segmentation.nii.gz', 'input/UCL/Case28.nii.gz', 'input/UCL/Case28_segmentation.nii.gz', 'input/UCL/Case29.nii.gz', 'input/UCL/Case29_segmentation.nii.gz', 'input/UCL/Case30.nii.gz', 'input/UCL/Case30_segmentation.nii.gz', 'input/UCL/Case31.nii.gz', 'input/UCL/Case31_segmentation.nii.gz', 'input/UCL/Case32.nii.gz', 'input/UCL/Case32_segmentation.nii.gz', 'input/UCL/Case33.nii.gz', 'input/UCL/Case33_segmentation.nii.gz', 'input/UCL/Case34.nii.gz', 'input/UCL/Case34_segmentation.nii.gz', 'input/UCL/Case35.nii.gz', 'input/UCL/Case35_segmentation.nii.gz', 'input/UCL/Case36.nii.gz', 'input/UCL/Case36_segmentation.nii.gz', 'input/UCL/Case37.nii.gz', 'input/UCL/Case37_segmentation.nii.gz']\n",
      "232\n"
     ]
    }
   ],
   "source": [
    "print(nii_files)\n",
    "print(len(nii_files))"
   ]
  },
  {
   "cell_type": "code",
   "execution_count": 9,
   "metadata": {},
   "outputs": [
    {
     "data": {
      "text/plain": [
       "(384, 384, 32)"
      ]
     },
     "execution_count": 9,
     "metadata": {},
     "output_type": "execute_result"
    }
   ],
   "source": [
    "# Volume channel has variable size\n",
    "nib.load(nii_files[50]).shape"
   ]
  },
  {
   "cell_type": "code",
   "execution_count": null,
   "metadata": {},
   "outputs": [],
   "source": [
    "counter = 0\n",
    "# nii_files should be in pairs\n",
    "# (image, mask)\n",
    "for i in range(0, len(nii_files), 2):\n",
    "    for depth in range(nib.load(nii_files[i]).shape[2]):\n",
    "        if nib.load(nii_files[i+1]).get_fdata()[:, :, depth].max() != 0:\n",
    "            counter += 1\n",
    "            # retrieve the image and mask\n",
    "            img = nib.load(nii_files[i]).get_fdata()[:, :, depth]\n",
    "            # binarize the mask\n",
    "            msk = nib.load(nii_files[i+1]).get_fdata()[:, :, depth] >= 1\n",
    "            # save image into data/img\n",
    "            plt.imsave(f'./data/img/{counter}.png', img, cmap='gray')\n",
    "            # save mask into data/mask\n",
    "            plt.imsave(f'./data/mask/{counter}.png', msk, cmap='gray')"
   ]
  }
 ],
 "metadata": {
  "kernelspec": {
   "display_name": "prostate_mri_env",
   "language": "python",
   "name": "python3"
  },
  "language_info": {
   "codemirror_mode": {
    "name": "ipython",
    "version": 3
   },
   "file_extension": ".py",
   "mimetype": "text/x-python",
   "name": "python",
   "nbconvert_exporter": "python",
   "pygments_lexer": "ipython3",
   "version": "3.9.21"
  }
 },
 "nbformat": 4,
 "nbformat_minor": 2
}
